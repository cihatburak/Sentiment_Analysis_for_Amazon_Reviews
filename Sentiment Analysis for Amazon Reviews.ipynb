{
 "cells": [
  {
   "cell_type": "markdown",
   "id": "c3d58b8f",
   "metadata": {},
   "source": [
    "<center> <h1 style=\"background-color:DarkSlateGray; color:white\" >Sentiment Analysis for Amazon Reviews</h1> \n",
    "\n",
    "<center><img\n",
    "src=\"https://m.media-amazon.com/images/G/41/social_share/amazon_logo._CB633269640_.png\" style=\"width:50%;height:50%;\">\n",
    "</center>\n",
    "    \n",
    "<br>   "
   ]
  },
  {
   "cell_type": "markdown",
   "id": "f4e2fa84",
   "metadata": {},
   "source": [
    "Hi ,\n",
    "I'm Burak. In this project, we will aim to increase sales by analyzing the comments received on the products of a company that produces home textiles and daily wear focused on Amazon, and by improving its features according to the complaints it receives. In line with this goal, we will label the comments by making sentiment analysis and create a classification model with the tagged data.\n",
    "\n",
    "**Let's Start!**"
   ]
  },
  {
   "cell_type": "code",
   "execution_count": 99,
   "id": "46f3261e",
   "metadata": {},
   "outputs": [],
   "source": [
    "from warnings import filterwarnings\n",
    "import matplotlib.pyplot as plt\n",
    "import numpy as np\n",
    "import pandas as pd\n",
    "from PIL import Image\n",
    "from nltk.corpus import stopwords\n",
    "from nltk.sentiment import SentimentIntensityAnalyzer\n",
    "from sklearn.ensemble import RandomForestClassifier\n",
    "from sklearn.linear_model import LogisticRegression\n",
    "from sklearn.model_selection import cross_val_score, GridSearchCV, cross_validate,train_test_split\n",
    "from sklearn.preprocessing import LabelEncoder\n",
    "from textblob import Word, TextBlob\n",
    "from wordcloud import WordCloud\n",
    "from sklearn.feature_extraction.text import TfidfVectorizer\n",
    "\n",
    "filterwarnings('ignore')\n",
    "pd.set_option('display.max_columns', None)\n",
    "pd.set_option('display.width', 200)"
   ]
  },
  {
   "cell_type": "markdown",
   "id": "f08078d0",
   "metadata": {},
   "source": [
    "<h3 style=\"color:DarkSlateGray\" >1. Text Preprocessing</h3>"
   ]
  },
  {
   "cell_type": "code",
   "execution_count": 51,
   "id": "4ac0a6d8",
   "metadata": {},
   "outputs": [
    {
     "data": {
      "text/html": [
       "<div>\n",
       "<style scoped>\n",
       "    .dataframe tbody tr th:only-of-type {\n",
       "        vertical-align: middle;\n",
       "    }\n",
       "\n",
       "    .dataframe tbody tr th {\n",
       "        vertical-align: top;\n",
       "    }\n",
       "\n",
       "    .dataframe thead th {\n",
       "        text-align: right;\n",
       "    }\n",
       "</style>\n",
       "<table border=\"1\" class=\"dataframe\">\n",
       "  <thead>\n",
       "    <tr style=\"text-align: right;\">\n",
       "      <th></th>\n",
       "      <th>Star</th>\n",
       "      <th>HelpFul</th>\n",
       "      <th>Title</th>\n",
       "      <th>Review</th>\n",
       "    </tr>\n",
       "  </thead>\n",
       "  <tbody>\n",
       "    <tr>\n",
       "      <th>0</th>\n",
       "      <td>5</td>\n",
       "      <td>0</td>\n",
       "      <td>looks great</td>\n",
       "      <td>Happy with it</td>\n",
       "    </tr>\n",
       "    <tr>\n",
       "      <th>1</th>\n",
       "      <td>5</td>\n",
       "      <td>0</td>\n",
       "      <td>Pattern did not align between the two panels.</td>\n",
       "      <td>Good quality material however the panels are m...</td>\n",
       "    </tr>\n",
       "    <tr>\n",
       "      <th>2</th>\n",
       "      <td>5</td>\n",
       "      <td>0</td>\n",
       "      <td>Imagery is stretched. Still fun.</td>\n",
       "      <td>Product was fun for bedroom windows.&lt;br /&gt;Imag...</td>\n",
       "    </tr>\n",
       "    <tr>\n",
       "      <th>3</th>\n",
       "      <td>5</td>\n",
       "      <td>0</td>\n",
       "      <td>Que se ven elegantes muy finas</td>\n",
       "      <td>Lo unico que me gustaria es que sean un poco ...</td>\n",
       "    </tr>\n",
       "    <tr>\n",
       "      <th>4</th>\n",
       "      <td>5</td>\n",
       "      <td>0</td>\n",
       "      <td>Wow great purchase</td>\n",
       "      <td>Great bang for the buck I can't believe the qu...</td>\n",
       "    </tr>\n",
       "  </tbody>\n",
       "</table>\n",
       "</div>"
      ],
      "text/plain": [
       "   Star  HelpFul                                          Title                                             Review\n",
       "0     5        0                                    looks great                                      Happy with it\n",
       "1     5        0  Pattern did not align between the two panels.  Good quality material however the panels are m...\n",
       "2     5        0               Imagery is stretched. Still fun.  Product was fun for bedroom windows.<br />Imag...\n",
       "3     5        0                 Que se ven elegantes muy finas   Lo unico que me gustaria es que sean un poco ...\n",
       "4     5        0                             Wow great purchase  Great bang for the buck I can't believe the qu..."
      ]
     },
     "execution_count": 51,
     "metadata": {},
     "output_type": "execute_result"
    }
   ],
   "source": [
    "df = pd.read_excel(\"./datasets/amazon.xlsx\")\n",
    "df.head()"
   ]
  },
  {
   "cell_type": "markdown",
   "id": "886fae25",
   "metadata": {},
   "source": [
    "The data set consists of the comments made for a certain product group, the title of the comment, the number of stars and the variables that indicate how many people found the comment useful. We will focus on the Review variable."
   ]
  },
  {
   "cell_type": "markdown",
   "id": "5bdbb787",
   "metadata": {},
   "source": [
    "<h4 style=\"color:DarkSlateGray\" >Normalizing Case Folding</h4>"
   ]
  },
  {
   "cell_type": "code",
   "execution_count": 52,
   "id": "965f57fe",
   "metadata": {},
   "outputs": [],
   "source": [
    "df['Review'] = df['Review'].str.lower()"
   ]
  },
  {
   "cell_type": "markdown",
   "id": "d995909a",
   "metadata": {},
   "source": [
    "<h4 style=\"color:DarkSlateGray\" >Punctuations & Numbers</h4>"
   ]
  },
  {
   "cell_type": "code",
   "execution_count": 53,
   "id": "57c01e74",
   "metadata": {},
   "outputs": [],
   "source": [
    "df['Review'] = df['Review'].str.replace('[^\\w\\s]', '')"
   ]
  },
  {
   "cell_type": "code",
   "execution_count": 54,
   "id": "d805c383",
   "metadata": {},
   "outputs": [],
   "source": [
    "df['Review'] = df['Review'].str.replace('\\d', '')"
   ]
  },
  {
   "cell_type": "code",
   "execution_count": 55,
   "id": "05b1eb60",
   "metadata": {},
   "outputs": [
    {
     "data": {
      "text/html": [
       "<div>\n",
       "<style scoped>\n",
       "    .dataframe tbody tr th:only-of-type {\n",
       "        vertical-align: middle;\n",
       "    }\n",
       "\n",
       "    .dataframe tbody tr th {\n",
       "        vertical-align: top;\n",
       "    }\n",
       "\n",
       "    .dataframe thead th {\n",
       "        text-align: right;\n",
       "    }\n",
       "</style>\n",
       "<table border=\"1\" class=\"dataframe\">\n",
       "  <thead>\n",
       "    <tr style=\"text-align: right;\">\n",
       "      <th></th>\n",
       "      <th>Star</th>\n",
       "      <th>HelpFul</th>\n",
       "      <th>Title</th>\n",
       "      <th>Review</th>\n",
       "    </tr>\n",
       "  </thead>\n",
       "  <tbody>\n",
       "    <tr>\n",
       "      <th>0</th>\n",
       "      <td>5</td>\n",
       "      <td>0</td>\n",
       "      <td>looks great</td>\n",
       "      <td>happy with it</td>\n",
       "    </tr>\n",
       "    <tr>\n",
       "      <th>1</th>\n",
       "      <td>5</td>\n",
       "      <td>0</td>\n",
       "      <td>Pattern did not align between the two panels.</td>\n",
       "      <td>good quality material however the panels are m...</td>\n",
       "    </tr>\n",
       "    <tr>\n",
       "      <th>2</th>\n",
       "      <td>5</td>\n",
       "      <td>0</td>\n",
       "      <td>Imagery is stretched. Still fun.</td>\n",
       "      <td>product was fun for bedroom windowsbr imagery ...</td>\n",
       "    </tr>\n",
       "    <tr>\n",
       "      <th>3</th>\n",
       "      <td>5</td>\n",
       "      <td>0</td>\n",
       "      <td>Que se ven elegantes muy finas</td>\n",
       "      <td>lo unico que me gustaria es que sean un poco ...</td>\n",
       "    </tr>\n",
       "    <tr>\n",
       "      <th>4</th>\n",
       "      <td>5</td>\n",
       "      <td>0</td>\n",
       "      <td>Wow great purchase</td>\n",
       "      <td>great bang for the buck i cant believe the qua...</td>\n",
       "    </tr>\n",
       "  </tbody>\n",
       "</table>\n",
       "</div>"
      ],
      "text/plain": [
       "   Star  HelpFul                                          Title                                             Review\n",
       "0     5        0                                    looks great                                      happy with it\n",
       "1     5        0  Pattern did not align between the two panels.  good quality material however the panels are m...\n",
       "2     5        0               Imagery is stretched. Still fun.  product was fun for bedroom windowsbr imagery ...\n",
       "3     5        0                 Que se ven elegantes muy finas   lo unico que me gustaria es que sean un poco ...\n",
       "4     5        0                             Wow great purchase  great bang for the buck i cant believe the qua..."
      ]
     },
     "execution_count": 55,
     "metadata": {},
     "output_type": "execute_result"
    }
   ],
   "source": [
    "df.head()"
   ]
  },
  {
   "cell_type": "markdown",
   "id": "d2cb59af",
   "metadata": {},
   "source": [
    "<h4 style=\"color:DarkSlateGray\" >Stopwords</h4>"
   ]
  },
  {
   "cell_type": "code",
   "execution_count": 56,
   "id": "8fdd4ca3",
   "metadata": {},
   "outputs": [],
   "source": [
    "import nltk\n",
    "sw = stopwords.words('english')\n",
    "\n",
    "df['Review'] = df['Review'].apply(lambda x: \" \".join(x for x in str(x).split() if x not in sw))"
   ]
  },
  {
   "cell_type": "markdown",
   "id": "5c8a62e3",
   "metadata": {},
   "source": [
    "<h4 style=\"color:DarkSlateGray\" >Rarewords</h4>"
   ]
  },
  {
   "cell_type": "code",
   "execution_count": 58,
   "id": "858d8612",
   "metadata": {},
   "outputs": [],
   "source": [
    "temp_df = pd.Series(' '.join(df['Review']).split()).value_counts()"
   ]
  },
  {
   "cell_type": "code",
   "execution_count": 61,
   "id": "a9810ee2",
   "metadata": {},
   "outputs": [
    {
     "data": {
      "text/plain": [
       "curtains        1891\n",
       "love            1312\n",
       "room            1116\n",
       "like            1037\n",
       "beautiful        943\n",
       "                ... \n",
       "hollermean         1\n",
       "climb              1\n",
       "coverings          1\n",
       "murallarge         1\n",
       "studioliving       1\n",
       "Length: 6699, dtype: int64"
      ]
     },
     "execution_count": 61,
     "metadata": {},
     "output_type": "execute_result"
    }
   ],
   "source": [
    "temp_df.sort_values(ascending=False)"
   ]
  },
  {
   "cell_type": "code",
   "execution_count": 65,
   "id": "988cf0bd",
   "metadata": {},
   "outputs": [],
   "source": [
    "drops = temp_df[temp_df <= 1]\n",
    "\n",
    "df['Review'] = df['Review'].apply(lambda x: \" \".join(x for x in x.split() if x not in drops))"
   ]
  },
  {
   "cell_type": "markdown",
   "id": "d88b41ea",
   "metadata": {},
   "source": [
    "<h4 style=\"color:DarkSlateGray\" >Lemmatization</h4>"
   ]
  },
  {
   "cell_type": "code",
   "execution_count": 66,
   "id": "fcb99ca5",
   "metadata": {},
   "outputs": [],
   "source": [
    "df['Review'] = df['Review'].apply(lambda x: \" \".join([Word(word).lemmatize() for word in x.split()]))"
   ]
  },
  {
   "cell_type": "markdown",
   "id": "354d9cb1",
   "metadata": {},
   "source": [
    "<h3 style=\"color:DarkSlateGray\" >2. Text Visualization</h3>"
   ]
  },
  {
   "cell_type": "code",
   "execution_count": 68,
   "id": "c515942f",
   "metadata": {},
   "outputs": [],
   "source": [
    "tf = df[\"Review\"].apply(lambda x: pd.value_counts(x.split(\" \"))).sum(axis=0).reset_index()"
   ]
  },
  {
   "cell_type": "code",
   "execution_count": 69,
   "id": "074b5c06",
   "metadata": {},
   "outputs": [
    {
     "data": {
      "text/html": [
       "<div>\n",
       "<style scoped>\n",
       "    .dataframe tbody tr th:only-of-type {\n",
       "        vertical-align: middle;\n",
       "    }\n",
       "\n",
       "    .dataframe tbody tr th {\n",
       "        vertical-align: top;\n",
       "    }\n",
       "\n",
       "    .dataframe thead th {\n",
       "        text-align: right;\n",
       "    }\n",
       "</style>\n",
       "<table border=\"1\" class=\"dataframe\">\n",
       "  <thead>\n",
       "    <tr style=\"text-align: right;\">\n",
       "      <th></th>\n",
       "      <th>words</th>\n",
       "      <th>tf</th>\n",
       "    </tr>\n",
       "  </thead>\n",
       "  <tbody>\n",
       "    <tr>\n",
       "      <th>58</th>\n",
       "      <td>curtain</td>\n",
       "      <td>2588.0</td>\n",
       "    </tr>\n",
       "    <tr>\n",
       "      <th>35</th>\n",
       "      <td>look</td>\n",
       "      <td>1531.0</td>\n",
       "    </tr>\n",
       "    <tr>\n",
       "      <th>108</th>\n",
       "      <td>love</td>\n",
       "      <td>1453.0</td>\n",
       "    </tr>\n",
       "    <tr>\n",
       "      <th>92</th>\n",
       "      <td>room</td>\n",
       "      <td>1129.0</td>\n",
       "    </tr>\n",
       "    <tr>\n",
       "      <th>152</th>\n",
       "      <td>like</td>\n",
       "      <td>1053.0</td>\n",
       "    </tr>\n",
       "    <tr>\n",
       "      <th>...</th>\n",
       "      <td>...</td>\n",
       "      <td>...</td>\n",
       "    </tr>\n",
       "    <tr>\n",
       "      <th>1941</th>\n",
       "      <td>nail</td>\n",
       "      <td>2.0</td>\n",
       "    </tr>\n",
       "    <tr>\n",
       "      <th>1942</th>\n",
       "      <td>salon</td>\n",
       "      <td>2.0</td>\n",
       "    </tr>\n",
       "    <tr>\n",
       "      <th>1945</th>\n",
       "      <td>write</td>\n",
       "      <td>2.0</td>\n",
       "    </tr>\n",
       "    <tr>\n",
       "      <th>1948</th>\n",
       "      <td>colorsbr</td>\n",
       "      <td>2.0</td>\n",
       "    </tr>\n",
       "    <tr>\n",
       "      <th>2727</th>\n",
       "      <td>miran</td>\n",
       "      <td>2.0</td>\n",
       "    </tr>\n",
       "  </tbody>\n",
       "</table>\n",
       "<p>2728 rows × 2 columns</p>\n",
       "</div>"
      ],
      "text/plain": [
       "         words      tf\n",
       "58     curtain  2588.0\n",
       "35        look  1531.0\n",
       "108       love  1453.0\n",
       "92        room  1129.0\n",
       "152       like  1053.0\n",
       "...        ...     ...\n",
       "1941      nail     2.0\n",
       "1942     salon     2.0\n",
       "1945     write     2.0\n",
       "1948  colorsbr     2.0\n",
       "2727     miran     2.0\n",
       "\n",
       "[2728 rows x 2 columns]"
      ]
     },
     "execution_count": 69,
     "metadata": {},
     "output_type": "execute_result"
    }
   ],
   "source": [
    "tf.columns = [\"words\", \"tf\"]\n",
    "\n",
    "tf.sort_values(\"tf\", ascending=False)"
   ]
  },
  {
   "cell_type": "markdown",
   "id": "ef7e4a45",
   "metadata": {},
   "source": [
    "<h4 style=\"color:DarkSlateGray\" >Barplot</h4>"
   ]
  },
  {
   "cell_type": "code",
   "execution_count": 71,
   "id": "be4dc5f8",
   "metadata": {},
   "outputs": [
    {
     "data": {
      "image/png": "[encoded data removed]",
      "text/plain": [
       "<Figure size 432x288 with 1 Axes>"
      ]
     },
     "metadata": {
      "needs_background": "light"
     },
     "output_type": "display_data"
    }
   ],
   "source": [
    "tf[tf[\"tf\"] > 500].plot.bar(x=\"words\", y=\"tf\")\n",
    "plt.show()"
   ]
  },
  {
   "cell_type": "markdown",
   "id": "d5ecce94",
   "metadata": {},
   "source": [
    "<h4 style=\"color:DarkSlateGray\" >Word Cloud</h4>"
   ]
  },
  {
   "cell_type": "code",
   "execution_count": 72,
   "id": "86177323",
   "metadata": {},
   "outputs": [
    {
     "data": {
      "image/png": "[encoded data removed]",
      "text/plain": [
       "<Figure size 432x288 with 1 Axes>"
      ]
     },
     "metadata": {
      "needs_background": "light"
     },
     "output_type": "display_data"
    }
   ],
   "source": [
    "text = \" \".join(i for i in df.Review)\n",
    "\n",
    "wordcloud = WordCloud().generate(text)\n",
    "plt.imshow(wordcloud, interpolation=\"bilinear\")\n",
    "plt.axis(\"off\")\n",
    "plt.show()"
   ]
  },
  {
   "cell_type": "markdown",
   "id": "acc5c2b5",
   "metadata": {},
   "source": [
    "<h3 style=\"color:DarkSlateGray\" >3. Sentiment Analysis</h3>"
   ]
  },
  {
   "cell_type": "code",
   "execution_count": 74,
   "id": "217fd98e",
   "metadata": {},
   "outputs": [
    {
     "data": {
      "text/plain": [
       "0                                                happy\n",
       "1                  good quality material however panel\n",
       "2    product fun bedroom windowsbr imagery bit stre...\n",
       "3                              lo que e que un poco ma\n",
       "4    great bang buck cant believe quality material ...\n",
       "Name: Review, dtype: object"
      ]
     },
     "execution_count": 74,
     "metadata": {},
     "output_type": "execute_result"
    }
   ],
   "source": [
    "df[\"Review\"].head()"
   ]
  },
  {
   "cell_type": "code",
   "execution_count": 76,
   "id": "d2625458",
   "metadata": {},
   "outputs": [],
   "source": [
    "sia = SentimentIntensityAnalyzer()"
   ]
  },
  {
   "cell_type": "code",
   "execution_count": 81,
   "id": "5d155b72",
   "metadata": {},
   "outputs": [
    {
     "data": {
      "text/plain": [
       "0    {'neg': 0.0, 'neu': 0.0, 'pos': 1.0, 'compound...\n",
       "1    {'neg': 0.0, 'neu': 0.58, 'pos': 0.42, 'compou...\n",
       "2    {'neg': 0.0, 'neu': 0.625, 'pos': 0.375, 'comp...\n",
       "3    {'neg': 0.0, 'neu': 1.0, 'pos': 0.0, 'compound...\n",
       "4    {'neg': 0.0, 'neu': 0.495, 'pos': 0.505, 'comp...\n",
       "Name: Review, dtype: object"
      ]
     },
     "execution_count": 81,
     "metadata": {},
     "output_type": "execute_result"
    }
   ],
   "source": [
    "df[\"Review\"][0:5].apply(lambda x: sia.polarity_scores(x))"
   ]
  },
  {
   "cell_type": "code",
   "execution_count": 82,
   "id": "53c78969",
   "metadata": {},
   "outputs": [
    {
     "data": {
      "text/plain": [
       "0    0.5719\n",
       "1    0.4404\n",
       "2    0.7184\n",
       "3    0.0000\n",
       "4    0.9042\n",
       "Name: Review, dtype: float64"
      ]
     },
     "execution_count": 82,
     "metadata": {},
     "output_type": "execute_result"
    }
   ],
   "source": [
    "df[\"Review\"][0:5].apply(lambda x: sia.polarity_scores(x)[\"compound\"])"
   ]
  },
  {
   "cell_type": "code",
   "execution_count": 84,
   "id": "7bca7dd6",
   "metadata": {},
   "outputs": [],
   "source": [
    "df[\"polarity_score\"] = df[\"Review\"].apply(lambda x: sia.polarity_scores(x)[\"compound\"])"
   ]
  },
  {
   "cell_type": "markdown",
   "id": "abb10b2d",
   "metadata": {},
   "source": [
    "<h3 style=\"color:DarkSlateGray\" >4. Feature Engineering</h3>"
   ]
  },
  {
   "cell_type": "code",
   "execution_count": 86,
   "id": "7fe8211f",
   "metadata": {},
   "outputs": [
    {
     "data": {
      "text/plain": [
       "0    pos\n",
       "1    pos\n",
       "2    pos\n",
       "3    neg\n",
       "4    pos\n",
       "Name: Review, dtype: object"
      ]
     },
     "execution_count": 86,
     "metadata": {},
     "output_type": "execute_result"
    }
   ],
   "source": [
    "df[\"Review\"][0:5].apply(lambda x: \"pos\" if sia.polarity_scores(x)[\"compound\"] > 0 else \"neg\")"
   ]
  },
  {
   "cell_type": "code",
   "execution_count": 88,
   "id": "eb49e401",
   "metadata": {},
   "outputs": [],
   "source": [
    "df[\"sentiment_label\"] = df[\"Review\"].apply(lambda x: \"pos\" if sia.polarity_scores(x)[\"compound\"] > 0 else \"neg\")"
   ]
  },
  {
   "cell_type": "code",
   "execution_count": 89,
   "id": "b0baa7c8",
   "metadata": {},
   "outputs": [
    {
     "data": {
      "text/plain": [
       "pos    4764\n",
       "neg     847\n",
       "Name: sentiment_label, dtype: int64"
      ]
     },
     "execution_count": 89,
     "metadata": {},
     "output_type": "execute_result"
    }
   ],
   "source": [
    "df[\"sentiment_label\"].value_counts()"
   ]
  },
  {
   "cell_type": "code",
   "execution_count": 92,
   "id": "3b3c6a32",
   "metadata": {},
   "outputs": [
    {
     "data": {
      "text/plain": [
       "sentiment_label\n",
       "neg    3.409681\n",
       "pos    4.583333\n",
       "Name: Star, dtype: float64"
      ]
     },
     "execution_count": 92,
     "metadata": {},
     "output_type": "execute_result"
    }
   ],
   "source": [
    "df.groupby(\"sentiment_label\")[\"Star\"].mean()"
   ]
  },
  {
   "cell_type": "code",
   "execution_count": 93,
   "id": "75a72b7e",
   "metadata": {},
   "outputs": [],
   "source": [
    "df[\"sentiment_label\"] = LabelEncoder().fit_transform(df[\"sentiment_label\"])"
   ]
  },
  {
   "cell_type": "code",
   "execution_count": 134,
   "id": "010cc465",
   "metadata": {},
   "outputs": [],
   "source": [
    "y = df[\"sentiment_label\"]\n",
    "X = df[\"Review\"]"
   ]
  },
  {
   "cell_type": "code",
   "execution_count": 135,
   "id": "9eee0c37",
   "metadata": {},
   "outputs": [],
   "source": [
    "tf_idf_word_vectorizer = TfidfVectorizer()\n",
    "X_tf_idf_word = tf_idf_word_vectorizer.fit_transform(X)"
   ]
  },
  {
   "cell_type": "markdown",
   "id": "392829d0",
   "metadata": {},
   "source": [
    "<h3 style=\"color:DarkSlateGray\" >5. Sentiment Modeling</h3>"
   ]
  },
  {
   "cell_type": "markdown",
   "id": "6f867d7b",
   "metadata": {},
   "source": [
    "<h4 style=\"color:DarkSlateGray\" >Logistic Regression</h4>"
   ]
  },
  {
   "cell_type": "code",
   "execution_count": 136,
   "id": "84856717",
   "metadata": {},
   "outputs": [
    {
     "data": {
      "text/plain": [
       "0.8944925659084163"
      ]
     },
     "execution_count": 136,
     "metadata": {},
     "output_type": "execute_result"
    }
   ],
   "source": [
    "log_model = LogisticRegression().fit(X_tf_idf_word, y)\n",
    "\n",
    "cross_val_score(log_model,\n",
    "                X_tf_idf_word,\n",
    "                y,\n",
    "                scoring=\"accuracy\",\n",
    "                cv=5).mean()"
   ]
  },
  {
   "cell_type": "code",
   "execution_count": 145,
   "id": "82f5519d",
   "metadata": {},
   "outputs": [],
   "source": [
    "new_review = pd.Series(\"it was good but I am sure that it doesnt fit me\")"
   ]
  },
  {
   "cell_type": "code",
   "execution_count": 146,
   "id": "36a4144c",
   "metadata": {},
   "outputs": [
    {
     "data": {
      "text/plain": [
       "array([1])"
      ]
     },
     "execution_count": 146,
     "metadata": {},
     "output_type": "execute_result"
    }
   ],
   "source": [
    "new_review = TfidfVectorizer().fit(X).transform(new_review)\n",
    "\n",
    "log_model.predict(new_review)"
   ]
  },
  {
   "cell_type": "code",
   "execution_count": 147,
   "id": "84c6e9d1",
   "metadata": {},
   "outputs": [],
   "source": [
    "random_review = pd.Series(df[\"Review\"].sample(1).values)"
   ]
  },
  {
   "cell_type": "code",
   "execution_count": 149,
   "id": "08a2919d",
   "metadata": {},
   "outputs": [
    {
     "data": {
      "text/plain": [
       "0    anyone concerned dark versus light side curtai...\n",
       "dtype: object"
      ]
     },
     "execution_count": 149,
     "metadata": {},
     "output_type": "execute_result"
    }
   ],
   "source": [
    "random_review"
   ]
  },
  {
   "cell_type": "code",
   "execution_count": 148,
   "id": "58b270fa",
   "metadata": {},
   "outputs": [
    {
     "data": {
      "text/plain": [
       "array([1])"
      ]
     },
     "execution_count": 148,
     "metadata": {},
     "output_type": "execute_result"
    }
   ],
   "source": [
    "new_review2 = TfidfVectorizer().fit(X).transform(random_review)\n",
    "\n",
    "log_model.predict(new_review2)"
   ]
  },
  {
   "cell_type": "markdown",
   "id": "792a4b66",
   "metadata": {},
   "source": [
    "<h4 style=\"color:DarkSlateGray\" >Random Forest</h4>"
   ]
  },
  {
   "cell_type": "code",
   "execution_count": 153,
   "id": "57ebb71f",
   "metadata": {},
   "outputs": [
    {
     "data": {
      "text/plain": [
       "0.9158811942165354"
      ]
     },
     "execution_count": 153,
     "metadata": {},
     "output_type": "execute_result"
    }
   ],
   "source": [
    "rf_model = RandomForestClassifier().fit(X_tf_idf_word, y)\n",
    "cross_val_score(rf_model, X_tf_idf_word, y, cv=5, n_jobs=-1).mean()"
   ]
  },
  {
   "cell_type": "markdown",
   "id": "e7c15134",
   "metadata": {},
   "source": [
    "Random forest provided 2% more accuracy than logistic regression. Let's continue with the random forest and do hyperparameter optimization."
   ]
  },
  {
   "cell_type": "markdown",
   "id": "66a28c86",
   "metadata": {},
   "source": [
    "<h4 style=\"color:DarkSlateGray\" >Hyperparameter Optimization</h4>"
   ]
  },
  {
   "cell_type": "code",
   "execution_count": 155,
   "id": "c333c480",
   "metadata": {},
   "outputs": [
    {
     "name": "stdout",
     "output_type": "stream",
     "text": [
      "Fitting 5 folds for each of 24 candidates, totalling 120 fits\n"
     ]
    },
    {
     "data": {
      "text/plain": [
       "0.9183768966179526"
      ]
     },
     "execution_count": 155,
     "metadata": {},
     "output_type": "execute_result"
    }
   ],
   "source": [
    "rf_model = RandomForestClassifier(random_state=17)\n",
    "\n",
    "rf_params = {\"max_depth\": [8, None],\n",
    "             \"max_features\": [7, \"auto\"],\n",
    "             \"min_samples_split\": [2, 5, 8],\n",
    "             \"n_estimators\": [100, 200]}\n",
    "\n",
    "rf_best_grid = GridSearchCV(rf_model,\n",
    "                            rf_params,\n",
    "                            cv=5,\n",
    "                            n_jobs=-1,\n",
    "                            verbose=1).fit(X_tf_idf_word, y)\n",
    "\n",
    "rf_best_grid.best_params_\n",
    "\n",
    "rf_final = rf_model.set_params(**rf_best_grid.best_params_, random_state=17).fit(X_tf_idf_word, y)\n",
    "\n",
    "\n",
    "cross_val_score(rf_final, X_tf_idf_word, y, cv=5, n_jobs=-1).mean()"
   ]
  },
  {
   "cell_type": "markdown",
   "id": "e83e9f7e",
   "metadata": {},
   "source": [
    "<h3 style=\"color:DarkSlateGray\" >We created our model with an accuracy rate of almost 92%.Thank you for your interest!</h3>"
   ]
  },
  {
   "cell_type": "code",
   "execution_count": null,
   "id": "ff0429bc",
   "metadata": {},
   "outputs": [],
   "source": []
  }
 ],
 "metadata": {
  "kernelspec": {
   "display_name": "Python 3 (ipykernel)",
   "language": "python",
   "name": "python3"
  },
  "language_info": {
   "codemirror_mode": {
    "name": "ipython",
    "version": 3
   },
   "file_extension": ".py",
   "mimetype": "text/x-python",
   "name": "python",
   "nbconvert_exporter": "python",
   "pygments_lexer": "ipython3",
   "version": "3.9.7"
  }
 },
 "nbformat": 4,
 "nbformat_minor": 5
}
